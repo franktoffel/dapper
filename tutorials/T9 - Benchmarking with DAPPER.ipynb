{
 "cells": [
  {
   "cell_type": "code",
   "execution_count": null,
   "metadata": {
    "collapsed": false
   },
   "outputs": [],
   "source": [
    "from resources.workspace import *"
   ]
  },
  {
   "cell_type": "markdown",
   "metadata": {},
   "source": [
    "DAPPER is a collection of tools to do benchmarking to investigate the impact of DA.\n",
    "\n",
    "Benchmarking by \"twin experiments\" enables assessing the\n",
    " * impact of DA on models\n",
    " * performance of different DA methods\n",
    " \n",
    "A twin experiment is structured as illustrated in the [previous section](T6 - Writing your own EnKF.ipynb). I.e. you\n",
    "* specify a\n",
    "\t* dynamic model* \n",
    "\t* observational model*\n",
    "* use these to generate a synthetic\n",
    "\t* \"truth\"\n",
    "\t* and observations thereof*\n",
    "* assess how different DA methods perform in estimating the truth, given the above starred (*) items.\n",
    "\n",
    "\n"
   ]
  },
  {
   "cell_type": "markdown",
   "metadata": {},
   "source": [
    "The experiment of the previous section was sourced from reseach litterature (Sakov, Oliver, Bertino (2012). \"An iterative EnKF for strongly nonlinear systems.\" Monthly Weather Review). It's transcribed in DAPPER, and may be found at: `[DAPPER-path]/mods/Lorenz63/sak12.py`\n",
    "Have a look (through your Jupyter dashboard). Note\n",
    " * DAPPER uses the transpose orientation for ensemble matrices $\\mathbf{E}$ compared to earlier in this tutorial (and EnKF litterature). This simplifies a lot of the code, but is something one must be aware of.\n",
    " * The `'jacob'` entries are there to allow using DA methods such as the (extended) Kalman filter.\n",
    " * Shortcut notation is sometimes allowed (such as `noise=0`), as this gets processed by object constructors.\n",
    " "
   ]
  },
  {
   "cell_type": "markdown",
   "metadata": {},
   "source": [
    "### Setup"
   ]
  },
  {
   "cell_type": "code",
   "execution_count": null,
   "metadata": {
    "collapsed": false
   },
   "outputs": [],
   "source": [
    "from mods.Lorenz63.sak12 import HMM\n",
    "HMM.t.KObs = 100  # shorten experiment"
   ]
  },
  {
   "cell_type": "markdown",
   "metadata": {},
   "source": [
    "We can inspect the setup (HMM) by printing it"
   ]
  },
  {
   "cell_type": "code",
   "execution_count": null,
   "metadata": {
    "collapsed": false
   },
   "outputs": [],
   "source": [
    "HMM"
   ]
  },
  {
   "cell_type": "markdown",
   "metadata": {},
   "source": [
    "### DA method"
   ]
  },
  {
   "cell_type": "markdown",
   "metadata": {},
   "source": [
    "The other half of the preparation is to specify a DA method and its configuration."
   ]
  },
  {
   "cell_type": "code",
   "execution_count": null,
   "metadata": {
    "collapsed": false
   },
   "outputs": [],
   "source": [
    "defaults = {'store_u':True}\n",
    "config = EnKF('PertObs',N=10,infl=1.04,**defaults)\n",
    "config"
   ]
  },
  {
   "cell_type": "markdown",
   "metadata": {},
   "source": [
    "The methods are defined in `[DAPPER-path]/da_methods.py`."
   ]
  },
  {
   "cell_type": "markdown",
   "metadata": {},
   "source": [
    "### Run experiment"
   ]
  },
  {
   "cell_type": "markdown",
   "metadata": {},
   "source": [
    "The rest of the experiment can be found in `[DAPPER-path]/example_1.py`. It is copy-pasted below. Run it."
   ]
  },
  {
   "cell_type": "code",
   "execution_count": null,
   "metadata": {
    "collapsed": false
   },
   "outputs": [],
   "source": [
    "# Simulate synthetic truth (xx) and noisy obs (yy)\n",
    "xx,yy = simulate(HMM)\n",
    "\n",
    "# Assimilate yy (knowing the twin's HMM). Assess vis-a-vis xx.\n",
    "stats = config.assimilate(HMM,xx,yy)\n",
    "\n",
    "# Average stats time series\n",
    "avrgs = stats.average_in_time()"
   ]
  },
  {
   "cell_type": "markdown",
   "metadata": {},
   "source": [
    "### Get results"
   ]
  },
  {
   "cell_type": "markdown",
   "metadata": {},
   "source": [
    "The averages may be neatly displayed using `print_averages`, as follows"
   ]
  },
  {
   "cell_type": "code",
   "execution_count": null,
   "metadata": {
    "collapsed": false
   },
   "outputs": [],
   "source": [
    "print_averages(config,avrgs,[],['rmse_a','rmv_a'])"
   ]
  },
  {
   "cell_type": "markdown",
   "metadata": {},
   "source": [
    "**Exc 2:**\n",
    "There are also other statistics in `stats` (and their time-averages in `avrgs`).\n",
    " * (a). The subscript `_a` in the average statistics listed above indicate that the statistics were collected immediately following an **a**nalysis update. Instead of these, print the **f**orecast (`_f`) statistics (collected immediately before the analysis. Are they lower/higher? Why?"
   ]
  },
  {
   "cell_type": "markdown",
   "metadata": {},
   "source": [
    " * (b). Display all of the averages by executing `avrgs`."
   ]
  },
  {
   "cell_type": "code",
   "execution_count": null,
   "metadata": {
    "collapsed": false
   },
   "outputs": [],
   "source": [
    "avrgs"
   ]
  },
  {
   "cell_type": "markdown",
   "metadata": {},
   "source": [
    "Raw access to the time-series of statistics is through `stats.MYSTAT.X`, where `X` is either `a`, `f` or `u`. The `u` attribute refers to time series registered at every integration step (not just before/after analyses), but is only present if the DA method was configured with `store_u=True`)."
   ]
  },
  {
   "cell_type": "markdown",
   "metadata": {},
   "source": [
    "In addition, DAPPER has some tools to plot some default diagnostics. For example:"
   ]
  },
  {
   "cell_type": "code",
   "execution_count": null,
   "metadata": {
    "collapsed": false
   },
   "outputs": [],
   "source": [
    "plot_time_series(stats)"
   ]
  },
  {
   "cell_type": "markdown",
   "metadata": {},
   "source": [
    "If the experiment is sufficiently long, the `plot_XXX` functions will only plot up to a certain time range limit, estimated from the variability of the system. The limit can be adjusted using the input argument `T`."
   ]
  },
  {
   "cell_type": "markdown",
   "metadata": {},
   "source": [
    "**Exc 4:** Why are the diagnostics in the middle plot are sharper (more jagged) than the others ?"
   ]
  },
  {
   "cell_type": "code",
   "execution_count": null,
   "metadata": {
    "collapsed": false
   },
   "outputs": [],
   "source": [
    "#show_answer('jagged diagnostics')"
   ]
  },
  {
   "cell_type": "code",
   "execution_count": null,
   "metadata": {
    "collapsed": false,
    "scrolled": false
   },
   "outputs": [],
   "source": [
    "plot_3D_trajectory (stats)"
   ]
  },
  {
   "cell_type": "code",
   "execution_count": null,
   "metadata": {
    "collapsed": false
   },
   "outputs": [],
   "source": [
    "plot_err_components(stats)"
   ]
  },
  {
   "cell_type": "markdown",
   "metadata": {},
   "source": [
    "**Exc 6*:** What is the probability law of RMSE values? What does this presuppose?"
   ]
  },
  {
   "cell_type": "code",
   "execution_count": null,
   "metadata": {
    "collapsed": false
   },
   "outputs": [],
   "source": [
    "#show_answer('RMSE hist')"
   ]
  },
  {
   "cell_type": "code",
   "execution_count": null,
   "metadata": {
    "collapsed": false
   },
   "outputs": [],
   "source": [
    "plot_rank_histogram(stats)"
   ]
  },
  {
   "cell_type": "markdown",
   "metadata": {},
   "source": [
    "**Exc 8:** Does this indicate that the filter is to confident or too uncertain?"
   ]
  },
  {
   "cell_type": "code",
   "execution_count": null,
   "metadata": {
    "collapsed": false
   },
   "outputs": [],
   "source": [
    "#show_answer('Rank hist')"
   ]
  },
  {
   "cell_type": "markdown",
   "metadata": {},
   "source": [
    "## Other DA methods"
   ]
  },
  {
   "cell_type": "code",
   "execution_count": null,
   "metadata": {
    "collapsed": true
   },
   "outputs": [],
   "source": [
    "%matplotlib inline"
   ]
  },
  {
   "cell_type": "markdown",
   "metadata": {},
   "source": [
    "Consider the \"climatological mean\":"
   ]
  },
  {
   "cell_type": "code",
   "execution_count": null,
   "metadata": {
    "collapsed": false
   },
   "outputs": [],
   "source": [
    "mu = xx.mean(axis=0)\n",
    "mu"
   ]
  },
  {
   "cell_type": "markdown",
   "metadata": {},
   "source": [
    "The truth `xx` is of course not available in reality, but a good estimate of its climatological mean should be possible to obtain. Even without doing any DA, we can say that this is an estimate of $\\mathbf{x}_k$ (at any and all $k$)."
   ]
  },
  {
   "cell_type": "markdown",
   "metadata": {},
   "source": [
    "**Exc 10:** Repeat the above twin experiment, but instead of the `EnKF`, use `Climatology` , which just uses `mu` as its estimate."
   ]
  },
  {
   "cell_type": "code",
   "execution_count": null,
   "metadata": {
    "collapsed": false
   },
   "outputs": [],
   "source": [
    "#show_answer('Twin Climatology')"
   ]
  },
  {
   "cell_type": "markdown",
   "metadata": {},
   "source": [
    "DA estimates states and parameters of dynamical systems.\n",
    "At the very least, we should demand that a good DA method improves on `Climatology`."
   ]
  },
  {
   "cell_type": "markdown",
   "metadata": {},
   "source": [
    "**Exc 12:** Repeat the above twin experiment, but now use `Var3D`."
   ]
  },
  {
   "cell_type": "code",
   "execution_count": null,
   "metadata": {
    "collapsed": false
   },
   "outputs": [],
   "source": [
    "#show_answer('Twin Var3D')"
   ]
  },
  {
   "cell_type": "markdown",
   "metadata": {},
   "source": [
    "This manages to obtain an RMSE that is a good deal better.\n",
    "\n",
    "This progression through improved methods can continue. Try it out with\n",
    " * `config = ExtKF(infl=90,**defaults)`\n",
    " * `config = EnKF_N(N=10,**defaults)`\n",
    " * `config = iEnKF('Sqrt',N=10,infl=1.02,rot=True,iMax=10,**defaults)`\n",
    " * `config = PartFilt(N=800,reg=0.9,NER=0.2,**defaults)`\n",
    "\n",
    "\n",
    "Note, however, that they require tuning, or they might just not work at all. And it's not always possible to make a given method work on all problems."
   ]
  },
  {
   "cell_type": "markdown",
   "metadata": {},
   "source": [
    "Further DA method configurations are listed in `[DAPPER-path]/example_1.py`. Moreover, `example_2.py` shows how to run many one after another and compare them."
   ]
  },
  {
   "cell_type": "markdown",
   "metadata": {},
   "source": [
    "**Exc 14:** Adapt `[DAPPER-path]/example_2.py` to run multiple similar EnKF's one after another, but with different inflation factor values. Find the best-tuned performance (in terms of rmse accuracy)."
   ]
  },
  {
   "cell_type": "markdown",
   "metadata": {},
   "source": [
    "**Exc 16:** Do a twin experiment with the HMM from mods.Lorenz95.sak08. The same file also holds several DA method configurations to test with.\n",
    "If you're running it locally, do this outside of jupyter, and use the setting `liveplotting=True` for the DA configuration.\n",
    "See if you can understand the plots and diagnostics that pop up."
   ]
  },
  {
   "cell_type": "markdown",
   "metadata": {},
   "source": [
    "## Using DAPPER to benchmark new methods and models\n",
    "\n",
    "Invent new DA methods. This is still an ongoing field of research. If you want to try it out with DAPPER, see the other methods in `da_methods.py` to learn about DAPPER syntax. The key points are to\n",
    " * use the `@DA_Config` wrapper.\n",
    " * define and return the inner `assimilator(stats,twin,xx,yy)` function with that signature.\n",
    " * make use of stats.assess (using 'a','f','u' to store the stats as '_a', '_f', or at all time steps)\n",
    "\n",
    "You may also have some interesting models for testing. These should be wrapped usign `TwinSetup` if you wish to test the DA methods in DAPPER. Use the HMM setup files under `[DAPPER-path]/mods` to see some examples."
   ]
  }
 ],
 "metadata": {
  "anaconda-cloud": {},
  "kernelspec": {
   "display_name": "Python [default]",
   "language": "python",
   "name": "python3"
  },
  "language_info": {
   "codemirror_mode": {
    "name": "ipython",
    "version": 3
   },
   "file_extension": ".py",
   "mimetype": "text/x-python",
   "name": "python",
   "nbconvert_exporter": "python",
   "pygments_lexer": "ipython3",
   "version": "3.5.2"
  },
  "widgets": {
   "state": {
    "0ba712b2d42647ee833b16f9957afbae": {
     "views": [
      {
       "cell_index": 13
      }
     ]
    }
   },
   "version": "1.2.0"
  }
 },
 "nbformat": 4,
 "nbformat_minor": 1
}
