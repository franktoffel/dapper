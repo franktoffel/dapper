{
 "cells": [
  {
   "cell_type": "code",
   "execution_count": null,
   "metadata": {
    "collapsed": false
   },
   "outputs": [],
   "source": [
    "from resources.workspace import *"
   ]
  },
  {
   "cell_type": "markdown",
   "metadata": {},
   "source": [
    "$\n",
    "%MACRO DEFINITION\n",
    "\\newcommand{\\Reals}{\\mathbb{R}}\n",
    "\\newcommand{\\Imags}{i\\Reals}\n",
    "\\newcommand{\\Integers}{\\mathbb{Z}}\n",
    "\\newcommand{\\Naturals}{\\mathbb{N}}\n",
    "%\n",
    "\\newcommand{\\Expect}[0]{\\mathop{}\\! \\mathbb{E}}\n",
    "\\newcommand{\\NormDist}{\\mathop{}\\! \\mathcal{N}}\n",
    "%\n",
    "\\newcommand{\\mat}[1]{{\\mathbf{{#1}}}} \n",
    "%\\newcommand{\\mat}[1]{{\\pmb{\\mathsf{#1}}}}\n",
    "\\newcommand{\\bvec}[1]{{\\mathbf{#1}}}\n",
    "%\n",
    "\\newcommand{\\trsign}{{\\mathsf{T}}}\n",
    "\\newcommand{\\tr}{^{\\trsign}}\n",
    "%\n",
    "\\newcommand{\\I}[0]{\\mat{I}}\n",
    "\\newcommand{\\K}[0]{\\mat{K}}\n",
    "\\newcommand{\\bP}[0]{\\mat{P}}\n",
    "\\newcommand{\\F}[0]{\\mat{F}}\n",
    "\\newcommand{\\bH}[0]{\\mat{H}}\n",
    "\\newcommand{\\bF}[0]{\\mat{F}}\n",
    "\\newcommand{\\R}[0]{\\mat{R}}\n",
    "\\newcommand{\\Q}[0]{\\mat{Q}}\n",
    "\\newcommand{\\B}[0]{\\mat{B}}\n",
    "\\newcommand{\\Ri}[0]{\\R^{-1}}\n",
    "\\newcommand{\\Bi}[0]{\\B^{-1}}\n",
    "\\newcommand{\\X}[0]{\\mat{X}}\n",
    "\\newcommand{\\A}[0]{\\mat{A}}\n",
    "\\newcommand{\\Y}[0]{\\mat{Y}}\n",
    "\\newcommand{\\E}[0]{\\mat{E}}\n",
    "\\newcommand{\\U}[0]{\\mat{U}}\n",
    "\\newcommand{\\V}[0]{\\mat{V}}\n",
    "%\n",
    "\\newcommand{\\x}[0]{\\bvec{x}}\n",
    "\\newcommand{\\y}[0]{\\bvec{y}}\n",
    "\\newcommand{\\q}[0]{\\bvec{q}}\n",
    "\\newcommand{\\br}[0]{\\bvec{r}}\n",
    "\\newcommand{\\bb}[0]{\\bvec{b}}\n",
    "%\n",
    "\\newcommand{\\cx}[0]{\\text{const}}\n",
    "\\newcommand{\\norm}[1]{\\|{#1}\\|}\n",
    "\\newcommand{\\tn}[1]{#1}\n",
    "%\n",
    "\\newcommand{\\bx}[0]{\\bvec{\\bar{x}}}\n",
    "\\newcommand{\\barP}[0]{\\mat{\\bar{P}}}\n",
    "\\newcommand{\\barK}[0]{\\mat{\\bar{K}}}\n",
    "\\newcommand{\\D}[0]{\\mat{D}}\n",
    "\\newcommand{\\Dobs}[0]{\\mat{D}_{\\text{obs}}}\n",
    "\\newcommand{\\Dmod}[0]{\\mat{D}_{\\text{mod}}}\n",
    "\\newcommand{\\ones}[0]{\\bvec{1}}\n",
    "%\n",
    "$In this section we're going to code an EnKF implementation using numpy.\n",
    "# The EnKF algorithm\n",
    "is given in the following.\n",
    "\n",
    "As with the KF, the EnKF consists of the recursive application of\n",
    "a forecast step and an analysis step.\n",
    "This presentation follows the traditional template, presenting the EnKF as the \"the Monte Carlo version of the KF\n",
    "where the state covariance is estimated by the ensemble covariance\".\n",
    "It is not obvious that this postulated method should work;\n",
    "indeed, it is only justified upon inspection of its properties,\n",
    "deferred to later.\n",
    "\n",
    "The time indices of the state and conditioning are implied\n",
    "by the superscript $f$ or $a$ for the ensemble.\n",
    "This indicates that $\\{\\x_n^f\\}_{n=1}^N$ (resp. $\\{\\x_n^a\\}_{n=1}^N$) is a forecast (resp. analysis) ensemble,\n",
    "and is also used for the derivative objects, $\\E, \\X, \\bx, \\barP$.\n",
    "\n",
    "### The forecast step\n",
    "For a given, implicit, time index, $k$,\n",
    "assume $\\{\\x_n^a\\}_{n=1}^N$ is an iid. sample from $p(\\x_{k-1} \\mid \\y_1,\\ldots, \\y_{k-1})$.\n",
    "The forecast step of the EnKF consists of a Monte Carlo simulation\n",
    "of the forecast dynamics for each $\\x_n^a$:\n",
    "$$\n",
    "\t\\forall n, \\quad \\x^f_n = f(\\x_n^a) + \\q_n  \\, , \\\\\n",
    "$$\n",
    "where the columns of $\\q_n$ are sampled iid. from $\\NormDist(0,\\Q)$.\n",
    "The ensemble, $\\{\\x_n^f\\}_{n=1}^N$, is then an iid. sample from the forecast pdf,\n",
    "$p(\\x_k \\mid \\y_1,\\ldots,\\y_{k-1})$.\n",
    "\n",
    "### The analysis update step\n",
    "of the ensemble is given by:\n",
    "$$\\begin{align}\n",
    "\t\\forall n, \\quad \\x^\\tn{a}_n &= \\x_n^\\tn{f} + \\barK \\left\\{\\y - \\br_n - h(\\x_n^\\tn{f}) \\right\\}\n",
    "\t\\, , \\\\\n",
    "\t\\text{or,}\\quad\n",
    "\t\\E^\\tn{a} &=  \\E^\\tn{f}  + \\barK \\left\\{\\y\\ones\\tr - \\Dobs - h(\\E^\\tn{f}) \\right\\} \\, ,\n",
    "\\end{align}\n",
    "$$\n",
    "where the \"observation perturbations\", $\\br_n$, are sampled iid. from $\\NormDist(0,\\R)$\n",
    "and form the columns of $\\Dobs$, and $h$ is applied column-wise to $\\E^\\tn{f}$.\n",
    "The gain $\\barK$ is defined by inserting the estimates for\n",
    " * (i) $\\bP^\\tn{f} \\bH\\tr$: the cross-covariance between $\\x^\\tn{f}$ and $h(\\x^\\tn{f})$, and\n",
    " * (ii) $\\bH \\bP^\\tn{f} \\bH\\tr$: the covariance matrix of $h(\\x^\\tn{f})$,\n",
    "\n",
    "in the formula for $\\K$ ( eqn K1 of [T5](T5%20-%20Multivariate%20Kalman.ipynb) with $\\bP^f = \\B$)\n",
    "Using the estimators from [T7](T7%20-%20Ensemble%20%5BMonte-Carlo%5D%20approach.ipynb) yields\n",
    "$$\\begin{align}\n",
    "\t\\barK &= \\X \\Y\\tr ( \\Y \\Y\\tr + (N-1) \\R )^{-1} \\, ,\n",
    "\\end{align}\n",
    "$$\n",
    "where $\\Y \\in \\Reals^{P \\times N}$\n",
    "is the centered, *observed* ensemble. \n",
    "\n",
    "The EnKF is summarized in the animation below."
   ]
  },
  {
   "cell_type": "code",
   "execution_count": null,
   "metadata": {
    "collapsed": false
   },
   "outputs": [],
   "source": [
    "#EnKF_animation"
   ]
  },
  {
   "cell_type": "markdown",
   "metadata": {},
   "source": [
    "#### Exc 1:\n",
    "Use the Woodbury identities to show that K = ..."
   ]
  },
  {
   "cell_type": "markdown",
   "metadata": {},
   "source": [
    "#### Exc 2:\n",
    "Show that the EnKF mean update conforms to the KF formulae."
   ]
  },
  {
   "cell_type": "markdown",
   "metadata": {},
   "source": [
    "We will make use of `estimate_mean_and_cov` and `estimate_cross_cov` from the previous section. Paste them in below."
   ]
  },
  {
   "cell_type": "code",
   "execution_count": null,
   "metadata": {
    "collapsed": false
   },
   "outputs": [],
   "source": [
    "# def estimate_mean_and_cov ..."
   ]
  },
  {
   "cell_type": "markdown",
   "metadata": {},
   "source": [
    "## Experimental setup\n",
    "\n",
    "Before making the EnKF, we'll also set up an experiment to test it with. To that end, we'll use the Lorenz-63 model, from [T4](T4 - Dynamical systems, chaos, Lorenz.ipynb). The coupled ODEs are recalled here, but with some of the paremeters fixed."
   ]
  },
  {
   "cell_type": "code",
   "execution_count": null,
   "metadata": {
    "collapsed": true
   },
   "outputs": [],
   "source": [
    "M = 3 # ndim\n",
    "\n",
    "def dxdt(x):\n",
    "    sig  = 10.0\n",
    "    rho  = 28.0\n",
    "    beta = 8.0/3\n",
    "    x,y,z = x\n",
    "    d     = np.zeros(3)\n",
    "    d[0]  = sig*(y - x)\n",
    "    d[1]  = rho*x - y - x*z\n",
    "    d[2]  = x*y - beta*z\n",
    "    return d"
   ]
  },
  {
   "cell_type": "markdown",
   "metadata": {},
   "source": [
    "Next, we make a \"black box\" forecast model $f$ out of $\\frac{d \\mathbf{x}}{dt}$ such that $\\mathbf{x}(t+dt) = f(\\mathbf{x}(t),t,dt)$. We'll make use of the \"4th order Runge-Kutta\" integrator `rk4`."
   ]
  },
  {
   "cell_type": "code",
   "execution_count": null,
   "metadata": {
    "collapsed": true
   },
   "outputs": [],
   "source": [
    "def f(E, t0, dt):\n",
    "    \n",
    "    def step(x0):\n",
    "        return rk4(lambda t,x: dxdt(x), x0, t0, dt)\n",
    "    \n",
    "    if E.ndim == 1:\n",
    "        # Truth (single state vector) case\n",
    "        E = step(E)\n",
    "    else:\n",
    "        # Ensemble case\n",
    "        for n in range(E.shape[1]):\n",
    "            E[:,n] = step(E[:,n])\n",
    "    \n",
    "    return E\n",
    "\n",
    "\n",
    "Q_chol = zeros((M,M))\n",
    "Q      = Q_chol @ Q_chol.T"
   ]
  },
  {
   "cell_type": "markdown",
   "metadata": {},
   "source": [
    "Notice the loop over each ensemble member. For better performance, this should be vectorized, if possible. Or, if the forecast model is computationally demanding (as is typically the case in real applications), the loop should be parallellized: i.e. the forecast simulations should be distributed to seperate computers."
   ]
  },
  {
   "cell_type": "markdown",
   "metadata": {},
   "source": [
    "The following are the time settings that we will use"
   ]
  },
  {
   "cell_type": "code",
   "execution_count": null,
   "metadata": {
    "collapsed": true
   },
   "outputs": [],
   "source": [
    "dt    = 0.01           # integrational time step\n",
    "dkObs = 25             # number of steps between observations\n",
    "dtObs = dkObs*dt       # time between observations\n",
    "KObs  = 60             # total number of observations\n",
    "K     = dkObs*(KObs+1) # total number of time steps"
   ]
  },
  {
   "cell_type": "markdown",
   "metadata": {},
   "source": [
    "Initial conditions"
   ]
  },
  {
   "cell_type": "code",
   "execution_count": null,
   "metadata": {
    "collapsed": true
   },
   "outputs": [],
   "source": [
    "mu0     = array([1.509, -1.531, 25.46])\n",
    "P0_chol = eye(3)\n",
    "P0      = P0_chol @ P0_chol.T"
   ]
  },
  {
   "cell_type": "markdown",
   "metadata": {},
   "source": [
    "Observation model settings"
   ]
  },
  {
   "cell_type": "code",
   "execution_count": null,
   "metadata": {
    "collapsed": true
   },
   "outputs": [],
   "source": [
    "p = 3 # ndim obs\n",
    "def h(E, t):\n",
    "    if E.ndim == 1: return E[:p]\n",
    "    else:           return E[:p,:]\n",
    "\n",
    "R_chol = sqrt(2)*eye(p)\n",
    "R      = R_chol @ R_chol.T"
   ]
  },
  {
   "cell_type": "markdown",
   "metadata": {},
   "source": [
    "Generate synthetic truth (`xx`) and observations (`yy`)"
   ]
  },
  {
   "cell_type": "code",
   "execution_count": null,
   "metadata": {
    "collapsed": false
   },
   "outputs": [],
   "source": [
    "# Init\n",
    "xx    = zeros((K+1   ,M))\n",
    "yy    = zeros((KObs+1,p))\n",
    "xx[0] = mu0 + P0_chol @ randn(M)\n",
    "\n",
    "# Loop\n",
    "for k in range(1,K+1):\n",
    "    xx[k]  = f(xx[k-1],(k-1)*dt,dt)\n",
    "    xx[k] += Q_chol @ randn(M)\n",
    "    if not k%dkObs:\n",
    "        kObs = k//dkObs-1\n",
    "        yy[kObs] = h(xx[k],nan) + R_chol @ randn(p)"
   ]
  },
  {
   "cell_type": "markdown",
   "metadata": {},
   "source": [
    "## EnKF implementation"
   ]
  },
  {
   "cell_type": "markdown",
   "metadata": {},
   "source": [
    "**Exc 4:** Complete the code below"
   ]
  },
  {
   "cell_type": "code",
   "execution_count": null,
   "metadata": {
    "collapsed": false
   },
   "outputs": [],
   "source": [
    "mu = zeros((K+1,M))\n",
    "\n",
    "# Useful linear algebra: compute B/A\n",
    "def divide_1st_by_2nd(B,A):\n",
    "    return nla.solve(A.T,B.T).T\n",
    "\n",
    "def my_EnKF(N):\n",
    "    # Init ensemble\n",
    "    ...\n",
    "    for k in range(1,K+1):\n",
    "        # Forecast\n",
    "        t   = k*dt\n",
    "        # use model\n",
    "        E   = ...\n",
    "        # add noise\n",
    "        E  += ...\n",
    "        if not k%dkObs:\n",
    "            # Analysis\n",
    "            y        = yy[k//dkObs-1] # current observation\n",
    "            hE       = h(E,t)         # obsrved ensemble\n",
    "            # Compute ensemble moments\n",
    "            BH       = ...\n",
    "            HBH      = ...\n",
    "            # Compute Kalman Gain \n",
    "            KG       = ...\n",
    "            # Generate perturbations\n",
    "            Perturb  = ...\n",
    "            # Update ensemble with KG\n",
    "            E       += \n",
    "        # Save statistics\n",
    "        mu[k] = mean(E,axis=1)"
   ]
  },
  {
   "cell_type": "markdown",
   "metadata": {},
   "source": [
    "Notice that we only store some stats (`mu`). This is because in large systems, keeping the entire ensemble in memory is probably too much."
   ]
  },
  {
   "cell_type": "code",
   "execution_count": null,
   "metadata": {
    "collapsed": false
   },
   "outputs": [],
   "source": [
    "#show_answer('EnKF v1')"
   ]
  },
  {
   "cell_type": "markdown",
   "metadata": {},
   "source": [
    "Now let's try out its capabilities"
   ]
  },
  {
   "cell_type": "code",
   "execution_count": null,
   "metadata": {
    "collapsed": false,
    "scrolled": false
   },
   "outputs": [],
   "source": [
    "# Run assimilation\n",
    "my_EnKF(10)\n",
    "\n",
    "# Plot results\n",
    "plt.subplot(311)\n",
    "plt.plot(dt   *arange(K+1)     ,mu[:,0],'k')\n",
    "plt.plot(dt   *arange(K+1)     ,xx[:,0],'b')\n",
    "plt.plot(dtObs*arange(1,KObs+2),yy[:,0],'k*')\n",
    "plt.subplot(312)\n",
    "plt.plot(dt   *arange(K+1)     ,mu[:,1],'k')\n",
    "plt.plot(dt   *arange(K+1)     ,xx[:,1],'b')\n",
    "plt.plot(dtObs*arange(1,KObs+2),yy[:,1],'k*')\n",
    "plt.subplot(313)\n",
    "plt.plot(dt   *arange(K+1)     ,mu[:,2],'k')\n",
    "plt.plot(dt   *arange(K+1)     ,xx[:,2],'b')\n",
    "plt.plot(dtObs*arange(1,KObs+2),yy[:,2],'k*')"
   ]
  },
  {
   "cell_type": "markdown",
   "metadata": {},
   "source": [
    "**Exc 6:** The visuals of the plots are nice. But it would be good to have a summary statistic of the accuracy performance of the filter. Make a function `average_rmse(xx,mu)` that computes $ \\frac{1}{K+1} \\sum_{k=0}^K \\sqrt{\\frac{1}{M} \\| \\overline{\\mathbf{x}}_k - \\mathbf{x}_k \\|_2^2} \\, .$"
   ]
  },
  {
   "cell_type": "code",
   "execution_count": null,
   "metadata": {
    "collapsed": false
   },
   "outputs": [],
   "source": [
    "def average_rmse(xx,mu):\n",
    "    ### INSERT ANSWER ###\n",
    "    return average\n",
    "\n",
    "# Test\n",
    "average_rmse(xx,mu)"
   ]
  },
  {
   "cell_type": "code",
   "execution_count": null,
   "metadata": {
    "collapsed": false
   },
   "outputs": [],
   "source": [
    "#show_answer('rmse')"
   ]
  },
  {
   "cell_type": "markdown",
   "metadata": {},
   "source": [
    "**Exc 8:**\n",
    " * (a). Repeat the above expriment, but now observing only the first (0th) component of the state. "
   ]
  },
  {
   "cell_type": "code",
   "execution_count": null,
   "metadata": {
    "collapsed": false
   },
   "outputs": [],
   "source": [
    "#show_answer('Repeat experiment a')"
   ]
  },
  {
   "cell_type": "markdown",
   "metadata": {},
   "source": [
    " * (b). Put a `seed()` command in the right place so as to be able to recreate exactly the same results from an experiment."
   ]
  },
  {
   "cell_type": "code",
   "execution_count": null,
   "metadata": {
    "collapsed": false
   },
   "outputs": [],
   "source": [
    "#show_answer('Repeat experiment b')"
   ]
  },
  {
   "cell_type": "markdown",
   "metadata": {},
   "source": [
    " * (c). Use $N=5$, and repeat the experiments. This is quite a small ensemble size, and quite often it will yield divergence: the EnKF \"definitely loses track\" of the truth, typically because of strong nonlinearity in the forecast models, and underestimation (by $\\overline{\\mathbf{P}})$ of the actual errors. Repeat the experiment with different seeds until you observe in the plots that divergence has happened.\n",
    " * (d). Implement \"multiplicative inflation\" to remedy the situation; this is a factor that should spread the ensemble further apart; a simple version is to inflate the perturbations. Implement it, and tune its value to try to avoid divergence."
   ]
  },
  {
   "cell_type": "code",
   "execution_count": null,
   "metadata": {
    "collapsed": false
   },
   "outputs": [],
   "source": [
    "#show_answer('Repeat experiment cd')"
   ]
  },
  {
   "cell_type": "markdown",
   "metadata": {},
   "source": [
    "### Next: [Benchmarking with DAPPER](T9 - Benchmarking with DAPPER.ipynb)"
   ]
  }
 ],
 "metadata": {
  "anaconda-cloud": {},
  "kernelspec": {
   "display_name": "Python [default]",
   "language": "python",
   "name": "python3"
  },
  "language_info": {
   "codemirror_mode": {
    "name": "ipython",
    "version": 3
   },
   "file_extension": ".py",
   "mimetype": "text/x-python",
   "name": "python",
   "nbconvert_exporter": "python",
   "pygments_lexer": "ipython3",
   "version": "3.5.2"
  }
 },
 "nbformat": 4,
 "nbformat_minor": 1
}
